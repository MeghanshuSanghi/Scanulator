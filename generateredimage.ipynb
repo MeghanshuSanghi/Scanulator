{
 "cells": [
  {
   "cell_type": "code",
   "execution_count": 7,
   "id": "d459a805-ed5d-4339-a998-1073998f3677",
   "metadata": {},
   "outputs": [],
   "source": [
    "import numpy as np\n",
    "import cv2\n",
    "import os\n",
    "from tensorflow.keras.datasets import mnist\n",
    "import matplotlib.pyplot as plt\n"
   ]
  },
  {
   "cell_type": "code",
   "execution_count": 8,
   "id": "1cc0ac14-96e0-4ceb-8a2a-388956947863",
   "metadata": {},
   "outputs": [],
   "source": [
    "output_dir = \"red_mnist\"\n",
    "os.makedirs(output_dir, exist_ok=True)\n"
   ]
  },
  {
   "cell_type": "code",
   "execution_count": 9,
   "id": "f1e332c0-9f99-405d-a221-d62f4b9cdb35",
   "metadata": {},
   "outputs": [],
   "source": [
    "(x_train, y_train), (x_test, y_test) = mnist.load_data()\n"
   ]
  },
  {
   "cell_type": "code",
   "execution_count": 10,
   "id": "1afae82d-8d4b-4754-a1cc-0c8481195184",
   "metadata": {},
   "outputs": [],
   "source": [
    "num_images = 1000  # number of red digit samples to generate\n",
    "\n",
    "for i in range(num_images):\n",
    "    img = x_train[i]\n",
    "    label = y_train[i]\n",
    "\n",
    "    # Convert to red channel image\n",
    "    red_img = np.zeros((28, 28, 3), dtype=np.uint8)\n",
    "    red_img[..., 2] = img  # Set red channel only\n",
    "\n",
    "    # Save into label folder\n",
    "    label_dir = os.path.join(output_dir, str(label))\n",
    "    os.makedirs(label_dir, exist_ok=True)\n",
    "\n",
    "    filename = os.path.join(label_dir, f\"{label}_{i}.png\")\n",
    "    cv2.imwrite(filename, red_img)\n"
   ]
  },
  {
   "cell_type": "code",
   "execution_count": 11,
   "id": "3096879c-67ff-4839-8761-7e02140e3abd",
   "metadata": {},
   "outputs": [
    {
     "name": "stdout",
     "output_type": "stream",
     "text": [
      "Image not found: red_mnist/0/0_0.png\n",
      "Image not found: red_mnist/1/1_0.png\n",
      "Image not found: red_mnist/2/2_0.png\n",
      "Image not found: red_mnist/3/3_0.png\n",
      "Image not found: red_mnist/4/4_0.png\n",
      "Image not found: red_mnist/6/6_0.png\n",
      "Image not found: red_mnist/7/7_0.png\n",
      "Image not found: red_mnist/8/8_0.png\n",
      "Image not found: red_mnist/9/9_0.png\n"
     ]
    },
    {
     "data": {
      "image/png": "[encoded data removed]",
      "text/plain": [
       "<Figure size 1000x400 with 1 Axes>"
      ]
     },
     "metadata": {},
     "output_type": "display_data"
    }
   ],
   "source": [
    "# Display some red digit samples safely\n",
    "plt.figure(figsize=(10, 4))\n",
    "for i in range(10):\n",
    "    image_path = f\"{output_dir}/{i}/{i}_0.png\"\n",
    "    if os.path.exists(image_path):\n",
    "        img = cv2.imread(image_path)\n",
    "        if img is not None:\n",
    "            plt.subplot(2, 5, i+1)\n",
    "            plt.imshow(cv2.cvtColor(img, cv2.COLOR_BGR2RGB))\n",
    "            plt.title(f\"Digit {i}\")\n",
    "            plt.axis(\"off\")\n",
    "        else:\n",
    "            print(f\"Image not loaded correctly: {image_path}\")\n",
    "    else:\n",
    "        print(f\"Image not found: {image_path}\")\n",
    "plt.tight_layout()\n",
    "plt.show()\n"
   ]
  },
  {
   "cell_type": "code",
   "execution_count": null,
   "id": "0b4d1837-2ea7-45f1-8491-09890d7bab3d",
   "metadata": {},
   "outputs": [],
   "source": []
  }
 ],
 "metadata": {
  "kernelspec": {
   "display_name": "Python 3 (ipykernel)",
   "language": "python",
   "name": "python3"
  },
  "language_info": {
   "codemirror_mode": {
    "name": "ipython",
    "version": 3
   },
   "file_extension": ".py",
   "mimetype": "text/x-python",
   "name": "python",
   "nbconvert_exporter": "python",
   "pygments_lexer": "ipython3",
   "version": "3.12.5"
  }
 },
 "nbformat": 4,
 "nbformat_minor": 5
}
